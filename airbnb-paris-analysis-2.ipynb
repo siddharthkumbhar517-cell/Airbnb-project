{
 "cells": [
  {
   "cell_type": "code",
   "execution_count": 1,
   "id": "b0dafee6",
   "metadata": {
    "_cell_guid": "b1076dfc-b9ad-4769-8c92-a6c4dae69d19",
    "_uuid": "8f2839f25d086af736a60e9eeb907d3b93b6e0e5",
    "execution": {
     "iopub.execute_input": "2025-09-08T17:23:56.528323Z",
     "iopub.status.busy": "2025-09-08T17:23:56.527915Z",
     "iopub.status.idle": "2025-09-08T17:23:58.649218Z",
     "shell.execute_reply": "2025-09-08T17:23:58.648134Z"
    },
    "papermill": {
     "duration": 2.136013,
     "end_time": "2025-09-08T17:23:58.651148",
     "exception": false,
     "start_time": "2025-09-08T17:23:56.515135",
     "status": "completed"
    },
    "tags": []
   },
   "outputs": [],
   "source": [
    "# This Python 3 environment comes with many helpful analytics libraries installed\n",
    "# It is defined by the kaggle/python Docker image: https://github.com/kaggle/docker-python\n",
    "# For example, here's several helpful packages to load\n",
    "\n",
    "import numpy as np # linear algebra\n",
    "import pandas as pd # data processing, CSV file I/O (e.g. pd.read_csv)\n",
    "\n",
    "# Input data files are available in the read-only \"../input/\" directory\n",
    "# For example, running this (by clicking run or pressing Shift+Enter) will list all files under the input directory\n",
    "\n",
    "import os\n",
    "for dirname, _, filenames in os.walk('/kaggle/input'):\n",
    "    for filename in filenames:\n",
    "        print(os.path.join(dirname, filename))\n",
    "\n",
    "# You can write up to 20GB to the current directory (/kaggle/working/) that gets preserved as output when you create a version using \"Save & Run All\" \n",
    "# You can also write temporary files to /kaggle/temp/, but they won't be saved outside of the current session"
   ]
  },
  {
   "cell_type": "markdown",
   "id": "4259c637",
   "metadata": {
    "papermill": {
     "duration": 0.008933,
     "end_time": "2025-09-08T17:23:58.669800",
     "exception": false,
     "start_time": "2025-09-08T17:23:58.660867",
     "status": "completed"
    },
    "tags": []
   },
   "source": [
    "<div style=\"\n",
    "    background-color: #767676; \n",
    "    color: white; \n",
    "    padding: 15px; \n",
    "    border-radius: 10px; \n",
    "    text-align: center; \n",
    "    font-size: 28px; \n",
    "    font-weight: bold;\n",
    "\">\n",
    "    Impact of Regulation on AirBnB business in Paris\n",
    "</div>\n"
   ]
  },
  {
   "cell_type": "markdown",
   "id": "66bb195b",
   "metadata": {
    "papermill": {
     "duration": 0.00976,
     "end_time": "2025-09-08T17:23:58.688916",
     "exception": false,
     "start_time": "2025-09-08T17:23:58.679156",
     "status": "completed"
    },
    "tags": []
   },
   "source": [
    "![Paris Airbnb View](https://silicon.nyc/wp-content/uploads/2017/02/Airbnb.jpg)"
   ]
  },
  {
   "cell_type": "markdown",
   "id": "9db7ebdc",
   "metadata": {
    "papermill": {
     "duration": 0.009446,
     "end_time": "2025-09-08T17:23:58.707493",
     "exception": false,
     "start_time": "2025-09-08T17:23:58.698047",
     "status": "completed"
    },
    "tags": []
   },
   "source": [
    "This analysis explores the evolution of Airbnb in Paris, examining how regulations, locality trends, and pricing dynamics have shaped host participation and customer demand."
   ]
  },
  {
   "cell_type": "markdown",
   "id": "1989d628",
   "metadata": {
    "papermill": {
     "duration": 0.008971,
     "end_time": "2025-09-08T17:23:58.725527",
     "exception": false,
     "start_time": "2025-09-08T17:23:58.716556",
     "status": "completed"
    },
    "tags": []
   },
   "source": [
    "## Executive Summary\n",
    "\n",
    "- **Rapid Growth Pre-2017**: Airbnb in Paris expanded quickly, with a surge of new hosts entering the market until 2016.  \n",
    "- **Regulatory Shift in 2017**: The introduction of stricter rental regulations slowed new host entries, reducing supply growth.  \n",
    "- **Resilient Demand**: Traveler demand remained strong, leading to a supply-demand gap and upward pressure on prices.  \n",
    "- **Key Opportunities**: Success now depends on focusing on premium localities, implementing dynamic pricing, and adapting to regulatory constraints.  \n"
   ]
  },
  {
   "cell_type": "code",
   "execution_count": 2,
   "id": "ba29ada4",
   "metadata": {
    "execution": {
     "iopub.execute_input": "2025-09-08T17:23:58.745082Z",
     "iopub.status.busy": "2025-09-08T17:23:58.744624Z",
     "iopub.status.idle": "2025-09-08T17:23:58.849170Z",
     "shell.execute_reply": "2025-09-08T17:23:58.847955Z"
    },
    "papermill": {
     "duration": 0.116475,
     "end_time": "2025-09-08T17:23:58.850823",
     "exception": true,
     "start_time": "2025-09-08T17:23:58.734348",
     "status": "failed"
    },
    "tags": []
   },
   "outputs": [
    {
     "ename": "FileNotFoundError",
     "evalue": "[Errno 2] No such file or directory: '/kaggle/input/airbnb-listings-reviews/Airbnb Data/Reviews_data_dictionary.csv'",
     "output_type": "error",
     "traceback": [
      "\u001b[0;31m---------------------------------------------------------------------------\u001b[0m",
      "\u001b[0;31mFileNotFoundError\u001b[0m                         Traceback (most recent call last)",
      "\u001b[0;32m/tmp/ipykernel_13/2671340435.py\u001b[0m in \u001b[0;36m<cell line: 0>\u001b[0;34m()\u001b[0m\n\u001b[0;32m----> 1\u001b[0;31m \u001b[0mreview_dict\u001b[0m \u001b[0;34m=\u001b[0m \u001b[0mpd\u001b[0m\u001b[0;34m.\u001b[0m\u001b[0mread_csv\u001b[0m\u001b[0;34m(\u001b[0m\u001b[0;34mr\"/kaggle/input/airbnb-listings-reviews/Airbnb Data/Reviews_data_dictionary.csv\"\u001b[0m\u001b[0;34m)\u001b[0m\u001b[0;34m\u001b[0m\u001b[0;34m\u001b[0m\u001b[0m\n\u001b[0m\u001b[1;32m      2\u001b[0m \u001b[0mreview_dict\u001b[0m\u001b[0;34m\u001b[0m\u001b[0;34m\u001b[0m\u001b[0m\n",
      "\u001b[0;32m/usr/local/lib/python3.11/dist-packages/pandas/io/parsers/readers.py\u001b[0m in \u001b[0;36mread_csv\u001b[0;34m(filepath_or_buffer, sep, delimiter, header, names, index_col, usecols, dtype, engine, converters, true_values, false_values, skipinitialspace, skiprows, skipfooter, nrows, na_values, keep_default_na, na_filter, verbose, skip_blank_lines, parse_dates, infer_datetime_format, keep_date_col, date_parser, date_format, dayfirst, cache_dates, iterator, chunksize, compression, thousands, decimal, lineterminator, quotechar, quoting, doublequote, escapechar, comment, encoding, encoding_errors, dialect, on_bad_lines, delim_whitespace, low_memory, memory_map, float_precision, storage_options, dtype_backend)\u001b[0m\n\u001b[1;32m   1024\u001b[0m     \u001b[0mkwds\u001b[0m\u001b[0;34m.\u001b[0m\u001b[0mupdate\u001b[0m\u001b[0;34m(\u001b[0m\u001b[0mkwds_defaults\u001b[0m\u001b[0;34m)\u001b[0m\u001b[0;34m\u001b[0m\u001b[0;34m\u001b[0m\u001b[0m\n\u001b[1;32m   1025\u001b[0m \u001b[0;34m\u001b[0m\u001b[0m\n\u001b[0;32m-> 1026\u001b[0;31m     \u001b[0;32mreturn\u001b[0m \u001b[0m_read\u001b[0m\u001b[0;34m(\u001b[0m\u001b[0mfilepath_or_buffer\u001b[0m\u001b[0;34m,\u001b[0m \u001b[0mkwds\u001b[0m\u001b[0;34m)\u001b[0m\u001b[0;34m\u001b[0m\u001b[0;34m\u001b[0m\u001b[0m\n\u001b[0m\u001b[1;32m   1027\u001b[0m \u001b[0;34m\u001b[0m\u001b[0m\n\u001b[1;32m   1028\u001b[0m \u001b[0;34m\u001b[0m\u001b[0m\n",
      "\u001b[0;32m/usr/local/lib/python3.11/dist-packages/pandas/io/parsers/readers.py\u001b[0m in \u001b[0;36m_read\u001b[0;34m(filepath_or_buffer, kwds)\u001b[0m\n\u001b[1;32m    618\u001b[0m \u001b[0;34m\u001b[0m\u001b[0m\n\u001b[1;32m    619\u001b[0m     \u001b[0;31m# Create the parser.\u001b[0m\u001b[0;34m\u001b[0m\u001b[0;34m\u001b[0m\u001b[0m\n\u001b[0;32m--> 620\u001b[0;31m     \u001b[0mparser\u001b[0m \u001b[0;34m=\u001b[0m \u001b[0mTextFileReader\u001b[0m\u001b[0;34m(\u001b[0m\u001b[0mfilepath_or_buffer\u001b[0m\u001b[0;34m,\u001b[0m \u001b[0;34m**\u001b[0m\u001b[0mkwds\u001b[0m\u001b[0;34m)\u001b[0m\u001b[0;34m\u001b[0m\u001b[0;34m\u001b[0m\u001b[0m\n\u001b[0m\u001b[1;32m    621\u001b[0m \u001b[0;34m\u001b[0m\u001b[0m\n\u001b[1;32m    622\u001b[0m     \u001b[0;32mif\u001b[0m \u001b[0mchunksize\u001b[0m \u001b[0;32mor\u001b[0m \u001b[0miterator\u001b[0m\u001b[0;34m:\u001b[0m\u001b[0;34m\u001b[0m\u001b[0;34m\u001b[0m\u001b[0m\n",
      "\u001b[0;32m/usr/local/lib/python3.11/dist-packages/pandas/io/parsers/readers.py\u001b[0m in \u001b[0;36m__init__\u001b[0;34m(self, f, engine, **kwds)\u001b[0m\n\u001b[1;32m   1618\u001b[0m \u001b[0;34m\u001b[0m\u001b[0m\n\u001b[1;32m   1619\u001b[0m         \u001b[0mself\u001b[0m\u001b[0;34m.\u001b[0m\u001b[0mhandles\u001b[0m\u001b[0;34m:\u001b[0m \u001b[0mIOHandles\u001b[0m \u001b[0;34m|\u001b[0m \u001b[0;32mNone\u001b[0m \u001b[0;34m=\u001b[0m \u001b[0;32mNone\u001b[0m\u001b[0;34m\u001b[0m\u001b[0;34m\u001b[0m\u001b[0m\n\u001b[0;32m-> 1620\u001b[0;31m         \u001b[0mself\u001b[0m\u001b[0;34m.\u001b[0m\u001b[0m_engine\u001b[0m \u001b[0;34m=\u001b[0m \u001b[0mself\u001b[0m\u001b[0;34m.\u001b[0m\u001b[0m_make_engine\u001b[0m\u001b[0;34m(\u001b[0m\u001b[0mf\u001b[0m\u001b[0;34m,\u001b[0m \u001b[0mself\u001b[0m\u001b[0;34m.\u001b[0m\u001b[0mengine\u001b[0m\u001b[0;34m)\u001b[0m\u001b[0;34m\u001b[0m\u001b[0;34m\u001b[0m\u001b[0m\n\u001b[0m\u001b[1;32m   1621\u001b[0m \u001b[0;34m\u001b[0m\u001b[0m\n\u001b[1;32m   1622\u001b[0m     \u001b[0;32mdef\u001b[0m \u001b[0mclose\u001b[0m\u001b[0;34m(\u001b[0m\u001b[0mself\u001b[0m\u001b[0;34m)\u001b[0m \u001b[0;34m->\u001b[0m \u001b[0;32mNone\u001b[0m\u001b[0;34m:\u001b[0m\u001b[0;34m\u001b[0m\u001b[0;34m\u001b[0m\u001b[0m\n",
      "\u001b[0;32m/usr/local/lib/python3.11/dist-packages/pandas/io/parsers/readers.py\u001b[0m in \u001b[0;36m_make_engine\u001b[0;34m(self, f, engine)\u001b[0m\n\u001b[1;32m   1878\u001b[0m                 \u001b[0;32mif\u001b[0m \u001b[0;34m\"b\"\u001b[0m \u001b[0;32mnot\u001b[0m \u001b[0;32min\u001b[0m \u001b[0mmode\u001b[0m\u001b[0;34m:\u001b[0m\u001b[0;34m\u001b[0m\u001b[0;34m\u001b[0m\u001b[0m\n\u001b[1;32m   1879\u001b[0m                     \u001b[0mmode\u001b[0m \u001b[0;34m+=\u001b[0m \u001b[0;34m\"b\"\u001b[0m\u001b[0;34m\u001b[0m\u001b[0;34m\u001b[0m\u001b[0m\n\u001b[0;32m-> 1880\u001b[0;31m             self.handles = get_handle(\n\u001b[0m\u001b[1;32m   1881\u001b[0m                 \u001b[0mf\u001b[0m\u001b[0;34m,\u001b[0m\u001b[0;34m\u001b[0m\u001b[0;34m\u001b[0m\u001b[0m\n\u001b[1;32m   1882\u001b[0m                 \u001b[0mmode\u001b[0m\u001b[0;34m,\u001b[0m\u001b[0;34m\u001b[0m\u001b[0;34m\u001b[0m\u001b[0m\n",
      "\u001b[0;32m/usr/local/lib/python3.11/dist-packages/pandas/io/common.py\u001b[0m in \u001b[0;36mget_handle\u001b[0;34m(path_or_buf, mode, encoding, compression, memory_map, is_text, errors, storage_options)\u001b[0m\n\u001b[1;32m    871\u001b[0m         \u001b[0;32mif\u001b[0m \u001b[0mioargs\u001b[0m\u001b[0;34m.\u001b[0m\u001b[0mencoding\u001b[0m \u001b[0;32mand\u001b[0m \u001b[0;34m\"b\"\u001b[0m \u001b[0;32mnot\u001b[0m \u001b[0;32min\u001b[0m \u001b[0mioargs\u001b[0m\u001b[0;34m.\u001b[0m\u001b[0mmode\u001b[0m\u001b[0;34m:\u001b[0m\u001b[0;34m\u001b[0m\u001b[0;34m\u001b[0m\u001b[0m\n\u001b[1;32m    872\u001b[0m             \u001b[0;31m# Encoding\u001b[0m\u001b[0;34m\u001b[0m\u001b[0;34m\u001b[0m\u001b[0m\n\u001b[0;32m--> 873\u001b[0;31m             handle = open(\n\u001b[0m\u001b[1;32m    874\u001b[0m                 \u001b[0mhandle\u001b[0m\u001b[0;34m,\u001b[0m\u001b[0;34m\u001b[0m\u001b[0;34m\u001b[0m\u001b[0m\n\u001b[1;32m    875\u001b[0m                 \u001b[0mioargs\u001b[0m\u001b[0;34m.\u001b[0m\u001b[0mmode\u001b[0m\u001b[0;34m,\u001b[0m\u001b[0;34m\u001b[0m\u001b[0;34m\u001b[0m\u001b[0m\n",
      "\u001b[0;31mFileNotFoundError\u001b[0m: [Errno 2] No such file or directory: '/kaggle/input/airbnb-listings-reviews/Airbnb Data/Reviews_data_dictionary.csv'"
     ]
    }
   ],
   "source": [
    "review_dict = pd.read_csv(r\"/kaggle/input/airbnb-listings-reviews/Airbnb Data/Reviews_data_dictionary.csv\")\n",
    "review_dict"
   ]
  },
  {
   "cell_type": "code",
   "execution_count": null,
   "id": "0ed1f11a",
   "metadata": {
    "execution": {
     "iopub.status.busy": "2025-09-08T17:11:42.369645Z",
     "iopub.status.idle": "2025-09-08T17:11:42.370178Z",
     "shell.execute_reply": "2025-09-08T17:11:42.370010Z",
     "shell.execute_reply.started": "2025-09-08T17:11:42.369992Z"
    },
    "papermill": {
     "duration": null,
     "end_time": null,
     "exception": null,
     "start_time": null,
     "status": "pending"
    },
    "tags": []
   },
   "outputs": [],
   "source": [
    "review = pd.read_csv(r\"/kaggle/input/airbnb-listings-reviews/Airbnb Data/Reviews.csv\")\n",
    "review.head()"
   ]
  },
  {
   "cell_type": "markdown",
   "id": "a3821ddb",
   "metadata": {
    "papermill": {
     "duration": null,
     "end_time": null,
     "exception": null,
     "start_time": null,
     "status": "pending"
    },
    "tags": []
   },
   "source": [
    "<div style=\"\n",
    "    background-color: #767676; \n",
    "    color: white; \n",
    "    padding: 15px; \n",
    "    border-radius: 10px; \n",
    "    text-align: center; \n",
    "    font-size: 28px; \n",
    "    font-weight: bold;\n",
    "\">\n",
    "    Importing Data and Exploring Column Information\n",
    "</div>\n"
   ]
  },
  {
   "cell_type": "code",
   "execution_count": null,
   "id": "a7a2abdd",
   "metadata": {
    "execution": {
     "iopub.status.busy": "2025-09-08T17:11:42.371642Z",
     "iopub.status.idle": "2025-09-08T17:11:42.371973Z",
     "shell.execute_reply": "2025-09-08T17:11:42.371818Z",
     "shell.execute_reply.started": "2025-09-08T17:11:42.371802Z"
    },
    "papermill": {
     "duration": null,
     "end_time": null,
     "exception": null,
     "start_time": null,
     "status": "pending"
    },
    "tags": []
   },
   "outputs": [],
   "source": [
    "listings_dict = pd.read_csv(r\"/kaggle/input/airbnb-listings-reviews/Airbnb Data/Listings_data_dictionary.csv\")\n",
    "listings_dict"
   ]
  },
  {
   "cell_type": "code",
   "execution_count": null,
   "id": "3e8c2d2d",
   "metadata": {
    "execution": {
     "iopub.status.busy": "2025-09-08T17:11:42.372854Z",
     "iopub.status.idle": "2025-09-08T17:11:42.373121Z",
     "shell.execute_reply": "2025-09-08T17:11:42.372990Z",
     "shell.execute_reply.started": "2025-09-08T17:11:42.372981Z"
    },
    "papermill": {
     "duration": null,
     "end_time": null,
     "exception": null,
     "start_time": null,
     "status": "pending"
    },
    "tags": []
   },
   "outputs": [],
   "source": [
    "import warnings\n",
    "warnings.filterwarnings(\"ignore\")"
   ]
  },
  {
   "cell_type": "code",
   "execution_count": null,
   "id": "941cd483",
   "metadata": {
    "execution": {
     "iopub.status.busy": "2025-09-08T17:11:42.374073Z",
     "iopub.status.idle": "2025-09-08T17:11:42.374437Z",
     "shell.execute_reply": "2025-09-08T17:11:42.374253Z",
     "shell.execute_reply.started": "2025-09-08T17:11:42.374238Z"
    },
    "papermill": {
     "duration": null,
     "end_time": null,
     "exception": null,
     "start_time": null,
     "status": "pending"
    },
    "tags": []
   },
   "outputs": [],
   "source": [
    "listings = pd.read_csv(r\"/kaggle/input/airbnb-listings-reviews/Airbnb Data/Listings.csv\",\n",
    "                      encoding = \"ISO-8859-1\",low_memory=False)\n",
    "listings.head()"
   ]
  },
  {
   "cell_type": "code",
   "execution_count": null,
   "id": "0a44f56d",
   "metadata": {
    "execution": {
     "iopub.status.busy": "2025-09-08T17:11:42.375577Z",
     "iopub.status.idle": "2025-09-08T17:11:42.375932Z",
     "shell.execute_reply": "2025-09-08T17:11:42.375774Z",
     "shell.execute_reply.started": "2025-09-08T17:11:42.375758Z"
    },
    "papermill": {
     "duration": null,
     "end_time": null,
     "exception": null,
     "start_time": null,
     "status": "pending"
    },
    "tags": []
   },
   "outputs": [],
   "source": [
    "listings.info()"
   ]
  },
  {
   "cell_type": "code",
   "execution_count": null,
   "id": "f3cdb072",
   "metadata": {
    "execution": {
     "iopub.status.busy": "2025-09-08T17:11:42.377484Z",
     "iopub.status.idle": "2025-09-08T17:11:42.377844Z",
     "shell.execute_reply": "2025-09-08T17:11:42.377675Z",
     "shell.execute_reply.started": "2025-09-08T17:11:42.377658Z"
    },
    "papermill": {
     "duration": null,
     "end_time": null,
     "exception": null,
     "start_time": null,
     "status": "pending"
    },
    "tags": []
   },
   "outputs": [],
   "source": [
    "listings[\"city\"].value_counts()"
   ]
  },
  {
   "cell_type": "markdown",
   "id": "2d06d769",
   "metadata": {
    "papermill": {
     "duration": null,
     "end_time": null,
     "exception": null,
     "start_time": null,
     "status": "pending"
    },
    "tags": []
   },
   "source": [
    "<div style=\"\n",
    "    background-color:#767676 ; \n",
    "    color: white; \n",
    "    padding: 15px; \n",
    "    border-radius: 10px; \n",
    "    text-align: center; \n",
    "    font-size: 28px; \n",
    "    font-weight: bold;\n",
    "\">\n",
    "    Filtering rows to show only Paris data along with relevant columns\n",
    "</div>\n"
   ]
  },
  {
   "cell_type": "code",
   "execution_count": null,
   "id": "83aefa91",
   "metadata": {
    "execution": {
     "iopub.execute_input": "2025-09-08T17:13:53.798890Z",
     "iopub.status.busy": "2025-09-08T17:13:53.798589Z",
     "iopub.status.idle": "2025-09-08T17:13:53.810123Z",
     "shell.execute_reply": "2025-09-08T17:13:53.808905Z",
     "shell.execute_reply.started": "2025-09-08T17:13:53.798869Z"
    },
    "papermill": {
     "duration": null,
     "end_time": null,
     "exception": null,
     "start_time": null,
     "status": "pending"
    },
    "tags": []
   },
   "outputs": [],
   "source": [
    "paris_listings = listings[listings[\"city\"]==\"Paris\"]\n",
    "paris_listings = paris_listings.loc[:,[\"listing_id\",\"host_since\",\"neighbourhood\",\"city\",\"accommodates\",\"price\"]]\n",
    "paris_listings.info()"
   ]
  },
  {
   "cell_type": "code",
   "execution_count": null,
   "id": "e3aaffa6",
   "metadata": {
    "execution": {
     "iopub.execute_input": "2025-09-08T17:13:54.727459Z",
     "iopub.status.busy": "2025-09-08T17:13:54.727138Z",
     "iopub.status.idle": "2025-09-08T17:13:54.736975Z",
     "shell.execute_reply": "2025-09-08T17:13:54.735847Z",
     "shell.execute_reply.started": "2025-09-08T17:13:54.727437Z"
    },
    "papermill": {
     "duration": null,
     "end_time": null,
     "exception": null,
     "start_time": null,
     "status": "pending"
    },
    "tags": []
   },
   "outputs": [],
   "source": [
    "paris_listings.isna().sum()"
   ]
  },
  {
   "cell_type": "code",
   "execution_count": null,
   "id": "3ea49f60",
   "metadata": {
    "execution": {
     "iopub.status.busy": "2025-09-08T17:11:42.551252Z",
     "iopub.status.idle": "2025-09-08T17:11:42.551735Z",
     "shell.execute_reply": "2025-09-08T17:11:42.551565Z",
     "shell.execute_reply.started": "2025-09-08T17:11:42.551546Z"
    },
    "papermill": {
     "duration": null,
     "end_time": null,
     "exception": null,
     "start_time": null,
     "status": "pending"
    },
    "tags": []
   },
   "outputs": [],
   "source": [
    "paris_listings.head()"
   ]
  },
  {
   "cell_type": "markdown",
   "id": "5c7b4730",
   "metadata": {
    "papermill": {
     "duration": null,
     "end_time": null,
     "exception": null,
     "start_time": null,
     "status": "pending"
    },
    "tags": []
   },
   "source": [
    "<div style=\"\n",
    "    background-color: #767676; \n",
    "    color: white; \n",
    "    padding: 15px; \n",
    "    border-radius: 10px; \n",
    "    text-align: center; \n",
    "    font-size: 28px; \n",
    "    font-weight: bold;\n",
    "\">\n",
    "    Removing nulls\n",
    "</div>\n"
   ]
  },
  {
   "cell_type": "code",
   "execution_count": null,
   "id": "9523f85e",
   "metadata": {
    "execution": {
     "iopub.status.busy": "2025-09-08T17:11:42.553053Z",
     "iopub.status.idle": "2025-09-08T17:11:42.553359Z",
     "shell.execute_reply": "2025-09-08T17:11:42.553210Z",
     "shell.execute_reply.started": "2025-09-08T17:11:42.553199Z"
    },
    "papermill": {
     "duration": null,
     "end_time": null,
     "exception": null,
     "start_time": null,
     "status": "pending"
    },
    "tags": []
   },
   "outputs": [],
   "source": [
    "paris_listings.dropna(how = \"any\",inplace = True)"
   ]
  },
  {
   "cell_type": "code",
   "execution_count": null,
   "id": "481d3ac5",
   "metadata": {
    "execution": {
     "iopub.status.busy": "2025-09-08T17:11:42.555025Z",
     "iopub.status.idle": "2025-09-08T17:11:42.555451Z",
     "shell.execute_reply": "2025-09-08T17:11:42.555245Z",
     "shell.execute_reply.started": "2025-09-08T17:11:42.555227Z"
    },
    "papermill": {
     "duration": null,
     "end_time": null,
     "exception": null,
     "start_time": null,
     "status": "pending"
    },
    "tags": []
   },
   "outputs": [],
   "source": [
    "paris_listings.info()"
   ]
  },
  {
   "cell_type": "code",
   "execution_count": null,
   "id": "8e92fce5",
   "metadata": {
    "execution": {
     "iopub.status.busy": "2025-09-08T17:11:42.556683Z",
     "iopub.status.idle": "2025-09-08T17:11:42.557125Z",
     "shell.execute_reply": "2025-09-08T17:11:42.556951Z",
     "shell.execute_reply.started": "2025-09-08T17:11:42.556888Z"
    },
    "papermill": {
     "duration": null,
     "end_time": null,
     "exception": null,
     "start_time": null,
     "status": "pending"
    },
    "tags": []
   },
   "outputs": [],
   "source": [
    "paris_listings[\"host_since\"] = pd.to_datetime(paris_listings[\"host_since\"])"
   ]
  },
  {
   "cell_type": "code",
   "execution_count": null,
   "id": "5f93d904",
   "metadata": {
    "execution": {
     "iopub.status.busy": "2025-09-08T17:11:42.558153Z",
     "iopub.status.idle": "2025-09-08T17:11:42.558455Z",
     "shell.execute_reply": "2025-09-08T17:11:42.558340Z",
     "shell.execute_reply.started": "2025-09-08T17:11:42.558323Z"
    },
    "papermill": {
     "duration": null,
     "end_time": null,
     "exception": null,
     "start_time": null,
     "status": "pending"
    },
    "tags": []
   },
   "outputs": [],
   "source": [
    "paris_listings.info()"
   ]
  },
  {
   "cell_type": "code",
   "execution_count": null,
   "id": "50aeb347",
   "metadata": {
    "execution": {
     "iopub.status.busy": "2025-09-08T17:11:42.559663Z",
     "iopub.status.idle": "2025-09-08T17:11:42.560051Z",
     "shell.execute_reply": "2025-09-08T17:11:42.559890Z",
     "shell.execute_reply.started": "2025-09-08T17:11:42.559873Z"
    },
    "papermill": {
     "duration": null,
     "end_time": null,
     "exception": null,
     "start_time": null,
     "status": "pending"
    },
    "tags": []
   },
   "outputs": [],
   "source": [
    "paris_listings.describe()"
   ]
  },
  {
   "cell_type": "markdown",
   "id": "1005853f",
   "metadata": {
    "papermill": {
     "duration": null,
     "end_time": null,
     "exception": null,
     "start_time": null,
     "status": "pending"
    },
    "tags": []
   },
   "source": [
    "<div style=\"\n",
    "    background-color: #767676; \n",
    "    color: white; \n",
    "    padding: 15px; \n",
    "    border-radius: 10px; \n",
    "    text-align: center; \n",
    "    font-size: 28px; \n",
    "    font-weight: bold;\n",
    "\">\n",
    "    Removing zeros since they indicate missing data\n",
    "</div>\n"
   ]
  },
  {
   "cell_type": "code",
   "execution_count": null,
   "id": "643e2e44",
   "metadata": {
    "execution": {
     "iopub.status.busy": "2025-09-08T17:11:42.563628Z",
     "iopub.status.idle": "2025-09-08T17:11:42.564222Z",
     "shell.execute_reply": "2025-09-08T17:11:42.564022Z",
     "shell.execute_reply.started": "2025-09-08T17:11:42.564001Z"
    },
    "papermill": {
     "duration": null,
     "end_time": null,
     "exception": null,
     "start_time": null,
     "status": "pending"
    },
    "tags": []
   },
   "outputs": [],
   "source": [
    "paris_listings = paris_listings[(paris_listings[\"accommodates\"]!=0) | (paris_listings[\"price\"]!=0)]"
   ]
  },
  {
   "cell_type": "code",
   "execution_count": null,
   "id": "cd4e6eba",
   "metadata": {
    "execution": {
     "iopub.status.busy": "2025-09-08T17:11:42.565415Z",
     "iopub.status.idle": "2025-09-08T17:11:42.565795Z",
     "shell.execute_reply": "2025-09-08T17:11:42.565611Z",
     "shell.execute_reply.started": "2025-09-08T17:11:42.565595Z"
    },
    "papermill": {
     "duration": null,
     "end_time": null,
     "exception": null,
     "start_time": null,
     "status": "pending"
    },
    "tags": []
   },
   "outputs": [],
   "source": [
    "paris_listings.info()"
   ]
  },
  {
   "cell_type": "code",
   "execution_count": null,
   "id": "9e73ab5c",
   "metadata": {
    "execution": {
     "iopub.status.busy": "2025-09-08T17:11:42.566743Z",
     "iopub.status.idle": "2025-09-08T17:11:42.566995Z",
     "shell.execute_reply": "2025-09-08T17:11:42.566893Z",
     "shell.execute_reply.started": "2025-09-08T17:11:42.566883Z"
    },
    "papermill": {
     "duration": null,
     "end_time": null,
     "exception": null,
     "start_time": null,
     "status": "pending"
    },
    "tags": []
   },
   "outputs": [],
   "source": [
    "paris_listings.describe()"
   ]
  },
  {
   "cell_type": "code",
   "execution_count": null,
   "id": "a219ada5",
   "metadata": {
    "execution": {
     "iopub.status.busy": "2025-09-08T17:11:42.568102Z",
     "iopub.status.idle": "2025-09-08T17:11:42.568363Z",
     "shell.execute_reply": "2025-09-08T17:11:42.568237Z",
     "shell.execute_reply.started": "2025-09-08T17:11:42.568227Z"
    },
    "papermill": {
     "duration": null,
     "end_time": null,
     "exception": null,
     "start_time": null,
     "status": "pending"
    },
    "tags": []
   },
   "outputs": [],
   "source": [
    "paris_listings = paris_listings[(paris_listings[\"price\"]!=0)]"
   ]
  },
  {
   "cell_type": "code",
   "execution_count": null,
   "id": "7f5da606",
   "metadata": {
    "execution": {
     "iopub.status.busy": "2025-09-08T17:11:42.569177Z",
     "iopub.status.idle": "2025-09-08T17:11:42.569552Z",
     "shell.execute_reply": "2025-09-08T17:11:42.569378Z",
     "shell.execute_reply.started": "2025-09-08T17:11:42.569363Z"
    },
    "papermill": {
     "duration": null,
     "end_time": null,
     "exception": null,
     "start_time": null,
     "status": "pending"
    },
    "tags": []
   },
   "outputs": [],
   "source": [
    "paris_listings.describe()"
   ]
  },
  {
   "cell_type": "code",
   "execution_count": null,
   "id": "5c089101",
   "metadata": {
    "execution": {
     "iopub.status.busy": "2025-09-08T17:11:42.571150Z",
     "iopub.status.idle": "2025-09-08T17:11:42.571441Z",
     "shell.execute_reply": "2025-09-08T17:11:42.571337Z",
     "shell.execute_reply.started": "2025-09-08T17:11:42.571325Z"
    },
    "papermill": {
     "duration": null,
     "end_time": null,
     "exception": null,
     "start_time": null,
     "status": "pending"
    },
    "tags": []
   },
   "outputs": [],
   "source": [
    "import matplotlib.pyplot as plt\n",
    "import seaborn as sns\n",
    "from scipy import stats"
   ]
  },
  {
   "cell_type": "markdown",
   "id": "b7f3e6c9",
   "metadata": {
    "papermill": {
     "duration": null,
     "end_time": null,
     "exception": null,
     "start_time": null,
     "status": "pending"
    },
    "tags": []
   },
   "source": [
    "<div style=\"\n",
    "    background-color: #767676; \n",
    "    color: white; \n",
    "    padding: 15px; \n",
    "    border-radius: 10px; \n",
    "    text-align: center; \n",
    "    font-size: 28px; \n",
    "    font-weight: bold;\n",
    "\">\n",
    "    Detecting Outliers\n",
    "</div>\n"
   ]
  },
  {
   "cell_type": "code",
   "execution_count": null,
   "id": "fc9eceba",
   "metadata": {
    "execution": {
     "iopub.status.busy": "2025-09-08T17:11:42.572728Z",
     "iopub.status.idle": "2025-09-08T17:11:42.573066Z",
     "shell.execute_reply": "2025-09-08T17:11:42.572908Z",
     "shell.execute_reply.started": "2025-09-08T17:11:42.572893Z"
    },
    "papermill": {
     "duration": null,
     "end_time": null,
     "exception": null,
     "start_time": null,
     "status": "pending"
    },
    "tags": []
   },
   "outputs": [],
   "source": [
    "sns.boxplot(paris_listings[\"price\"])"
   ]
  },
  {
   "cell_type": "code",
   "execution_count": null,
   "id": "d35c0c91",
   "metadata": {
    "execution": {
     "iopub.status.busy": "2025-09-08T17:11:42.574741Z",
     "iopub.status.idle": "2025-09-08T17:11:42.575045Z",
     "shell.execute_reply": "2025-09-08T17:11:42.574931Z",
     "shell.execute_reply.started": "2025-09-08T17:11:42.574914Z"
    },
    "papermill": {
     "duration": null,
     "end_time": null,
     "exception": null,
     "start_time": null,
     "status": "pending"
    },
    "tags": []
   },
   "outputs": [],
   "source": [
    "sns.boxplot(paris_listings[\"accommodates\"])"
   ]
  },
  {
   "cell_type": "code",
   "execution_count": null,
   "id": "85be25fc",
   "metadata": {
    "execution": {
     "iopub.status.busy": "2025-09-08T17:11:42.575928Z",
     "iopub.status.idle": "2025-09-08T17:11:42.576377Z",
     "shell.execute_reply": "2025-09-08T17:11:42.576188Z",
     "shell.execute_reply.started": "2025-09-08T17:11:42.576170Z"
    },
    "papermill": {
     "duration": null,
     "end_time": null,
     "exception": null,
     "start_time": null,
     "status": "pending"
    },
    "tags": []
   },
   "outputs": [],
   "source": [
    "sns.histplot(paris_listings[\"price\"],kde = True)"
   ]
  },
  {
   "cell_type": "code",
   "execution_count": null,
   "id": "a5ea361c",
   "metadata": {
    "execution": {
     "iopub.status.busy": "2025-09-08T17:11:42.577554Z",
     "iopub.status.idle": "2025-09-08T17:11:42.577889Z",
     "shell.execute_reply": "2025-09-08T17:11:42.577734Z",
     "shell.execute_reply.started": "2025-09-08T17:11:42.577718Z"
    },
    "papermill": {
     "duration": null,
     "end_time": null,
     "exception": null,
     "start_time": null,
     "status": "pending"
    },
    "tags": []
   },
   "outputs": [],
   "source": [
    "upper_limit = np.mean(paris_listings[\"price\"]) + 3*np.std(paris_listings[\"price\"])\n",
    "upper_limit"
   ]
  },
  {
   "cell_type": "markdown",
   "id": "f6f51c2b",
   "metadata": {
    "papermill": {
     "duration": null,
     "end_time": null,
     "exception": null,
     "start_time": null,
     "status": "pending"
    },
    "tags": []
   },
   "source": [
    "<div style=\"\n",
    "    background-color: #767676; \n",
    "    color: white; \n",
    "    padding: 15px; \n",
    "    border-radius: 10px; \n",
    "    text-align: center; \n",
    "    font-size: 28px; \n",
    "    font-weight: bold;\n",
    "\">\n",
    "    Removing Properties with Exponentially high prices, 3 Standard Deviation Away\n",
    "</div>\n"
   ]
  },
  {
   "cell_type": "code",
   "execution_count": null,
   "id": "870db4d3",
   "metadata": {
    "execution": {
     "iopub.status.busy": "2025-09-08T17:11:42.578571Z",
     "iopub.status.idle": "2025-09-08T17:11:42.579059Z",
     "shell.execute_reply": "2025-09-08T17:11:42.578751Z",
     "shell.execute_reply.started": "2025-09-08T17:11:42.578736Z"
    },
    "papermill": {
     "duration": null,
     "end_time": null,
     "exception": null,
     "start_time": null,
     "status": "pending"
    },
    "tags": []
   },
   "outputs": [],
   "source": [
    "paris_listings = paris_listings[(paris_listings[\"price\"]<=upper_limit)]"
   ]
  },
  {
   "cell_type": "code",
   "execution_count": null,
   "id": "5275bc0c",
   "metadata": {
    "execution": {
     "iopub.status.busy": "2025-09-08T17:11:42.580497Z",
     "iopub.status.idle": "2025-09-08T17:11:42.580848Z",
     "shell.execute_reply": "2025-09-08T17:11:42.580671Z",
     "shell.execute_reply.started": "2025-09-08T17:11:42.580656Z"
    },
    "papermill": {
     "duration": null,
     "end_time": null,
     "exception": null,
     "start_time": null,
     "status": "pending"
    },
    "tags": []
   },
   "outputs": [],
   "source": [
    "paris_listings.describe()"
   ]
  },
  {
   "cell_type": "markdown",
   "id": "39c2d554",
   "metadata": {
    "papermill": {
     "duration": null,
     "end_time": null,
     "exception": null,
     "start_time": null,
     "status": "pending"
    },
    "tags": []
   },
   "source": [
    "### Data Cleaning Summary\n",
    "\n",
    "- **Initial entries:** 64,690  \n",
    "- **Final entries after cleaning:** 64,192  \n",
    "- **Entries removed:** 498  \n",
    "\n",
    "This means that a total of **498 records** were removed during the cleaning process,  \n",
    "which accounts for only **~0.77% of the dataset**.  \n",
    "\n",
    "The cleaning process therefore preserved the vast majority of data,  \n",
    "while ensuring that inconsistent or invalid records were excluded.\n"
   ]
  },
  {
   "cell_type": "code",
   "execution_count": null,
   "id": "96e9b014",
   "metadata": {
    "execution": {
     "iopub.status.busy": "2025-09-08T17:11:42.582168Z",
     "iopub.status.idle": "2025-09-08T17:11:42.582683Z",
     "shell.execute_reply": "2025-09-08T17:11:42.582367Z",
     "shell.execute_reply.started": "2025-09-08T17:11:42.582354Z"
    },
    "papermill": {
     "duration": null,
     "end_time": null,
     "exception": null,
     "start_time": null,
     "status": "pending"
    },
    "tags": []
   },
   "outputs": [],
   "source": [
    "paris_listings.describe(include = \"object\")"
   ]
  },
  {
   "cell_type": "code",
   "execution_count": null,
   "id": "5108000e",
   "metadata": {
    "execution": {
     "iopub.status.busy": "2025-09-08T17:11:42.583817Z",
     "iopub.status.idle": "2025-09-08T17:11:42.584149Z",
     "shell.execute_reply": "2025-09-08T17:11:42.584000Z",
     "shell.execute_reply.started": "2025-09-08T17:11:42.583984Z"
    },
    "papermill": {
     "duration": null,
     "end_time": null,
     "exception": null,
     "start_time": null,
     "status": "pending"
    },
    "tags": []
   },
   "outputs": [],
   "source": [
    "paris_listings[\"neighbourhood\"].value_counts()"
   ]
  },
  {
   "cell_type": "code",
   "execution_count": null,
   "id": "40b261bb",
   "metadata": {
    "execution": {
     "iopub.status.busy": "2025-09-08T17:11:42.585856Z",
     "iopub.status.idle": "2025-09-08T17:11:42.586102Z",
     "shell.execute_reply": "2025-09-08T17:11:42.585996Z",
     "shell.execute_reply.started": "2025-09-08T17:11:42.585987Z"
    },
    "papermill": {
     "duration": null,
     "end_time": null,
     "exception": null,
     "start_time": null,
     "status": "pending"
    },
    "tags": []
   },
   "outputs": [],
   "source": [
    "paris_listings_avg_price = paris_listings.groupby(\"neighbourhood\").agg({\"price\":\"mean\"})\n",
    "paris_listings_avg_price.sort_values(\"price\",ascending = False,inplace = True)"
   ]
  },
  {
   "cell_type": "markdown",
   "id": "f1fb289d",
   "metadata": {
    "papermill": {
     "duration": null,
     "end_time": null,
     "exception": null,
     "start_time": null,
     "status": "pending"
    },
    "tags": []
   },
   "source": [
    "<div style=\"\n",
    "    background-color: #767676; \n",
    "    color: white; \n",
    "    padding: 15px; \n",
    "    border-radius: 10px; \n",
    "    text-align: center; \n",
    "    font-size: 28px; \n",
    "    font-weight: bold;\n",
    "\">\n",
    "    Looking at the Most relevant Localities in Paris\n",
    "</div>\n"
   ]
  },
  {
   "cell_type": "code",
   "execution_count": null,
   "id": "7a115b3a",
   "metadata": {
    "execution": {
     "iopub.status.busy": "2025-09-08T17:11:42.587384Z",
     "iopub.status.idle": "2025-09-08T17:11:42.587661Z",
     "shell.execute_reply": "2025-09-08T17:11:42.587540Z",
     "shell.execute_reply.started": "2025-09-08T17:11:42.587526Z"
    },
    "papermill": {
     "duration": null,
     "end_time": null,
     "exception": null,
     "start_time": null,
     "status": "pending"
    },
    "tags": []
   },
   "outputs": [],
   "source": [
    "paris_listings_avg_price"
   ]
  },
  {
   "cell_type": "code",
   "execution_count": null,
   "id": "93bf784c",
   "metadata": {
    "execution": {
     "iopub.status.busy": "2025-09-08T17:11:42.588512Z",
     "iopub.status.idle": "2025-09-08T17:11:42.588735Z",
     "shell.execute_reply": "2025-09-08T17:11:42.588630Z",
     "shell.execute_reply.started": "2025-09-08T17:11:42.588621Z"
    },
    "papermill": {
     "duration": null,
     "end_time": null,
     "exception": null,
     "start_time": null,
     "status": "pending"
    },
    "tags": []
   },
   "outputs": [],
   "source": [
    "plt.figure(figsize = (12,8))\n",
    "sns.barplot(data = paris_listings_avg_price,\n",
    "           x = \"price\",\n",
    "           y = paris_listings_avg_price.index, color = \"#00A699\")\n",
    "plt.title(\"Neighbourhoods in Paris (Premium Localities at the Top!)\")\n",
    "plt.xlabel(\"How Expensive? (Euros)\")\n",
    "plt.ylabel(\"Prominent Localities with AirBnBs\")\n",
    "plt.show()"
   ]
  },
  {
   "cell_type": "markdown",
   "id": "b73cd4b2",
   "metadata": {
    "papermill": {
     "duration": null,
     "end_time": null,
     "exception": null,
     "start_time": null,
     "status": "pending"
    },
    "tags": []
   },
   "source": [
    "### Insight on Average Nightly Prices by Locality in Paris\n",
    "\n",
    "- The **most expensive areas** are central and prestigious districts such as **Elysee (€170/night)**, **Louvre (€150/night)**, and **Luxembourg (€144/night)**. These neighborhoods are close to iconic landmarks, luxury shopping, and government or cultural institutions, which drives up demand and prices.  \n",
    "\n",
    "- Mid-range prices are seen in areas like **Temple (€126/night)**, **Pantheon (€118/night)**, and **Opera (€114/night)**. These are still popular, but slightly less exclusive compared to the top-tier localities.  \n",
    "\n",
    "- The **more affordable neighborhoods** include **Menilmontant (€72/night)**, **Buttes-Chaumont (€73/night)**, and **Buttes-Montmartre (€81/night)**. These districts are further from the tourist-heavy city center but may appeal to budget-conscious travelers or those seeking a more local experience.  \n",
    "\n",
    "**Overall:** The price gradient reflects proximity to cultural hotspots and affluence of the locality. Central, historic, and tourist-heavy areas command higher prices, while outer neighborhoods offer budget-friendly options.\n"
   ]
  },
  {
   "cell_type": "markdown",
   "id": "1d3c7700",
   "metadata": {
    "papermill": {
     "duration": null,
     "end_time": null,
     "exception": null,
     "start_time": null,
     "status": "pending"
    },
    "tags": []
   },
   "source": [
    "<div style=\"\n",
    "    background-color: #767676; \n",
    "    color: white; \n",
    "    padding: 15px; \n",
    "    border-radius: 10px; \n",
    "    text-align: center; \n",
    "    font-size: 28px; \n",
    "    font-weight: bold;\n",
    "\">\n",
    "    Does Price Change as per number of Guests?\n",
    "</div>\n"
   ]
  },
  {
   "cell_type": "code",
   "execution_count": null,
   "id": "20f01d84",
   "metadata": {
    "execution": {
     "iopub.status.busy": "2025-09-08T17:11:42.589114Z",
     "iopub.status.idle": "2025-09-08T17:11:42.589382Z",
     "shell.execute_reply": "2025-09-08T17:11:42.589247Z",
     "shell.execute_reply.started": "2025-09-08T17:11:42.589237Z"
    },
    "papermill": {
     "duration": null,
     "end_time": null,
     "exception": null,
     "start_time": null,
     "status": "pending"
    },
    "tags": []
   },
   "outputs": [],
   "source": [
    "paris_listings_accomodates = paris_listings.groupby(\"accommodates\").agg({\"price\":\"mean\"})\n",
    "paris_listings_accomodates.sort_values(\"price\",ascending = False,inplace = True)"
   ]
  },
  {
   "cell_type": "code",
   "execution_count": null,
   "id": "e63d8b04",
   "metadata": {
    "execution": {
     "iopub.status.busy": "2025-09-08T17:11:42.590459Z",
     "iopub.status.idle": "2025-09-08T17:11:42.590751Z",
     "shell.execute_reply": "2025-09-08T17:11:42.590647Z",
     "shell.execute_reply.started": "2025-09-08T17:11:42.590636Z"
    },
    "papermill": {
     "duration": null,
     "end_time": null,
     "exception": null,
     "start_time": null,
     "status": "pending"
    },
    "tags": []
   },
   "outputs": [],
   "source": [
    "paris_listings_accomodates"
   ]
  },
  {
   "cell_type": "markdown",
   "id": "5638ab75",
   "metadata": {
    "papermill": {
     "duration": null,
     "end_time": null,
     "exception": null,
     "start_time": null,
     "status": "pending"
    },
    "tags": []
   },
   "source": [
    "### Insight on Accommodation Capacity and Average Prices\n",
    "\n",
    "- As expected, listings that accommodate **more guests** tend to have **higher nightly prices**.  \n",
    "  - Small units for **1–2 guests** are the cheapest, averaging around **€56–79/night**.  \n",
    "  - Medium-sized listings for **4–6 guests** range from **€118–198/night**.  \n",
    "  - Large properties hosting **10+ guests** are much more expensive, often exceeding **€300/night**.\n",
    "\n",
    "- The **highest average prices** are for large group accommodations:  \n",
    "  - **13 guests: €475/night**  \n",
    "  - **14 guests: €438/night**  \n",
    "  - **11 guests: €420/night**  \n",
    "\n",
    "- Interestingly, beyond a certain point (e.g., 15–16 guests), the average price does not continue to rise proportionally, suggesting a niche but limited demand for **very large properties**.\n",
    "\n",
    "**Overall:** Prices scale with accommodation size, but the relationship is not perfectly linear. Small apartments dominate budget travel, while large listings cater to premium or group stays, commanding much higher rates.\n"
   ]
  },
  {
   "cell_type": "code",
   "execution_count": null,
   "id": "40078b5e",
   "metadata": {
    "execution": {
     "iopub.status.busy": "2025-09-08T17:11:42.592415Z",
     "iopub.status.idle": "2025-09-08T17:11:42.592842Z",
     "shell.execute_reply": "2025-09-08T17:11:42.592670Z",
     "shell.execute_reply.started": "2025-09-08T17:11:42.592653Z"
    },
    "papermill": {
     "duration": null,
     "end_time": null,
     "exception": null,
     "start_time": null,
     "status": "pending"
    },
    "tags": []
   },
   "outputs": [],
   "source": [
    "plt.figure(figsize=(12,8))\n",
    "sns.scatterplot(x=\"accommodates\", y=\"price\", data=paris_listings_accomodates, s=100, color=\"blue\")\n",
    "\n",
    "# Add a trendline\n",
    "sns.regplot(x=paris_listings_accomodates.index, y=\"price\", data=paris_listings_accomodates,\n",
    "            scatter=False, color=\"red\", line_kws={\"linewidth\":2})\n",
    "\n",
    "plt.title(\"Average Airbnb Price vs. Number of Guests Accommodated\", fontsize=14, fontweight=\"bold\")\n",
    "plt.xlabel(\"Number of Guests (Accommodates)\")\n",
    "plt.ylabel(\"Average Price (€)\")\n",
    "plt.grid(alpha=0.3)\n",
    "plt.show()"
   ]
  },
  {
   "cell_type": "code",
   "execution_count": null,
   "id": "8b610bd6",
   "metadata": {
    "execution": {
     "iopub.status.busy": "2025-09-08T17:11:42.593996Z",
     "iopub.status.idle": "2025-09-08T17:11:42.594225Z",
     "shell.execute_reply": "2025-09-08T17:11:42.594127Z",
     "shell.execute_reply.started": "2025-09-08T17:11:42.594118Z"
    },
    "papermill": {
     "duration": null,
     "end_time": null,
     "exception": null,
     "start_time": null,
     "status": "pending"
    },
    "tags": []
   },
   "outputs": [],
   "source": [
    "plt.figure(figsize = (12,8))\n",
    "sns.barplot(data = paris_listings_accomodates,\n",
    "           x = \"price\",\n",
    "           y = paris_listings_accomodates.index, color = \"#00A699\",\n",
    "           orient = \"h\",order = paris_listings_accomodates.index)\n",
    "plt.title(\"Average Price as per Accomodates allowed\")\n",
    "plt.xlabel(\"How Expensive? (Euros)\")\n",
    "plt.ylabel(\"Number of Guests\")\n",
    "plt.show()"
   ]
  },
  {
   "cell_type": "markdown",
   "id": "8735fc60",
   "metadata": {
    "papermill": {
     "duration": null,
     "end_time": null,
     "exception": null,
     "start_time": null,
     "status": "pending"
    },
    "tags": []
   },
   "source": [
    "<div style=\"\n",
    "    background-color: #767676; \n",
    "    color: white; \n",
    "    padding: 15px; \n",
    "    border-radius: 10px; \n",
    "    text-align: center; \n",
    "    font-size: 28px; \n",
    "    font-weight: bold;\n",
    "\">\n",
    "    Extracting Year to see time series Analysis of Price and New Host Joining\n",
    "</div>\n"
   ]
  },
  {
   "cell_type": "code",
   "execution_count": null,
   "id": "29e043fe",
   "metadata": {
    "execution": {
     "iopub.status.busy": "2025-09-08T17:11:42.595452Z",
     "iopub.status.idle": "2025-09-08T17:11:42.595843Z",
     "shell.execute_reply": "2025-09-08T17:11:42.595710Z",
     "shell.execute_reply.started": "2025-09-08T17:11:42.595698Z"
    },
    "papermill": {
     "duration": null,
     "end_time": null,
     "exception": null,
     "start_time": null,
     "status": "pending"
    },
    "tags": []
   },
   "outputs": [],
   "source": [
    "paris_listings[\"year_of_listing\"] = paris_listings[\"host_since\"].dt.year"
   ]
  },
  {
   "cell_type": "markdown",
   "id": "4698dcf8",
   "metadata": {
    "papermill": {
     "duration": null,
     "end_time": null,
     "exception": null,
     "start_time": null,
     "status": "pending"
    },
    "tags": []
   },
   "source": [
    "### Why Use the *host_since* Column?\n",
    "\n",
    "The **`host_since`** column records the date when a host first listed their property on Airbnb.  \n",
    "Analyzing this column can provide valuable business insights because:\n",
    "\n",
    "- **Market Entry Timing**: It shows when new hosts are joining the platform, which reflects Airbnb’s growth phases.  \n",
    "- **Host Experience**: Longer tenure may correlate with more reliable hosts and better reviews, whereas recent hosts might need onboarding support.  \n",
    "- **Business Cycles**: Peaks in new host sign-ups can indicate favorable periods for the short-term rental business (e.g., tourism booms, policy changes, or high-demand seasons).  \n",
    "- **Impact of Regulations**: Sudden drops in new host listings may highlight external factors such as regulations or economic conditions affecting supply.  \n",
    "\n",
    "In short, **tracking the `host_since` column helps identify the best times when the Airbnb business environment was most attractive for new entrants**, which can act as a proxy for \"good times\" in the market.\n"
   ]
  },
  {
   "cell_type": "code",
   "execution_count": null,
   "id": "1f2311d0",
   "metadata": {
    "execution": {
     "iopub.status.busy": "2025-09-08T17:11:42.597325Z",
     "iopub.status.idle": "2025-09-08T17:11:42.597872Z",
     "shell.execute_reply": "2025-09-08T17:11:42.597748Z",
     "shell.execute_reply.started": "2025-09-08T17:11:42.597731Z"
    },
    "papermill": {
     "duration": null,
     "end_time": null,
     "exception": null,
     "start_time": null,
     "status": "pending"
    },
    "tags": []
   },
   "outputs": [],
   "source": [
    "paris_listings.head()"
   ]
  },
  {
   "cell_type": "code",
   "execution_count": null,
   "id": "5bc0ca63",
   "metadata": {
    "execution": {
     "iopub.status.busy": "2025-09-08T17:11:42.599079Z",
     "iopub.status.idle": "2025-09-08T17:11:42.599419Z",
     "shell.execute_reply": "2025-09-08T17:11:42.599263Z",
     "shell.execute_reply.started": "2025-09-08T17:11:42.599248Z"
    },
    "papermill": {
     "duration": null,
     "end_time": null,
     "exception": null,
     "start_time": null,
     "status": "pending"
    },
    "tags": []
   },
   "outputs": [],
   "source": [
    "paris_listings_final_analysis = paris_listings.groupby(\"year_of_listing\").agg({\n",
    "    \"listing_id\":\"count\",\"price\":\"mean\"\n",
    "})\n",
    "paris_listings_final_analysis"
   ]
  },
  {
   "cell_type": "code",
   "execution_count": null,
   "id": "a8080bb3",
   "metadata": {
    "execution": {
     "iopub.status.busy": "2025-09-08T17:11:42.600909Z",
     "iopub.status.idle": "2025-09-08T17:11:42.601209Z",
     "shell.execute_reply": "2025-09-08T17:11:42.601080Z",
     "shell.execute_reply.started": "2025-09-08T17:11:42.601065Z"
    },
    "papermill": {
     "duration": null,
     "end_time": null,
     "exception": null,
     "start_time": null,
     "status": "pending"
    },
    "tags": []
   },
   "outputs": [],
   "source": [
    "plt.figure(figsize=(12,6))\n",
    "\n",
    "plt.plot(paris_listings_final_analysis.index, paris_listings_final_analysis['listing_id'], \n",
    "         marker='o', linestyle='-', linewidth=2, color='teal', alpha=0.8)\n",
    "\n",
    "# Titles and labels\n",
    "plt.title(\"Number of New Airbnb Listings in Paris Over Time\", fontsize=16, fontweight=\"bold\", pad=15)\n",
    "plt.xlabel(\"Year of Listing\", fontsize=13)\n",
    "plt.ylabel(\"Number of New Listings\", fontsize=13)\n",
    "\n",
    "# Grid and ticks\n",
    "plt.grid(alpha=0.3, linestyle=\"--\")\n",
    "plt.xticks(paris_listings_final_analysis.index, rotation=45)\n",
    "plt.yticks(fontsize=11)\n",
    "plt.xticks(fontsize=11)\n",
    "\n",
    "# Highlight regulation year (2017)\n",
    "plt.axvline(x=2017, color='red', linestyle='--', linewidth=2, alpha=0.7, label=\"Regulation (2017)\")\n",
    "plt.legend(fontsize=11)\n",
    "\n",
    "plt.tight_layout()\n",
    "plt.show()\n"
   ]
  },
  {
   "cell_type": "markdown",
   "id": "796d40d2",
   "metadata": {
    "papermill": {
     "duration": null,
     "end_time": null,
     "exception": null,
     "start_time": null,
     "status": "pending"
    },
    "tags": []
   },
   "source": [
    "### Insight on Airbnb Listings Over Time\n",
    "\n",
    "- From **2008 to 2015**, the number of new Airbnb listings in Paris grew rapidly, peaking around **2015–2016** with more than 12,000 new hosts entering the market. This indicates a period of **high attractiveness and strong growth** for Airbnb, with both **supply (hosts)** and **demand (customers)** expanding significantly.  \n",
    "\n",
    "- Starting in **2017**, there is a sharp decline in the number of new listings. This coincides with the **regulation imposed in Paris in 2017** that aimed to control short-term rentals due to housing shortages. The regulation clearly discouraged many new hosts from entering the market, leading to a **reduction in supply growth**.  \n",
    "\n",
    "- The continued decline after 2017 suggests that the **barriers to entry remained high**, keeping potential new hosts from joining. On the demand side, while tourists and customers likely still sought Airbnbs, the **limited supply growth** would have constrained options and potentially increased prices.  \n",
    "\n",
    "**Overall:**  \n",
    "- **Pre-2017:** Strong growth in both supply (hosts) and demand (customers).  \n",
    "- **Post-2017:** Regulation led to a slowdown in host entry, reducing supply expansion, even though customer demand likely remained steady or growing.\n"
   ]
  },
  {
   "cell_type": "code",
   "execution_count": null,
   "id": "cabc3fb2",
   "metadata": {
    "execution": {
     "iopub.execute_input": "2025-09-08T17:11:42.747878Z",
     "iopub.status.busy": "2025-09-08T17:11:42.747501Z",
     "iopub.status.idle": "2025-09-08T17:11:42.760411Z",
     "shell.execute_reply": "2025-09-08T17:11:42.759170Z",
     "shell.execute_reply.started": "2025-09-08T17:11:42.747855Z"
    },
    "papermill": {
     "duration": null,
     "end_time": null,
     "exception": null,
     "start_time": null,
     "status": "pending"
    },
    "tags": []
   },
   "outputs": [],
   "source": [
    "plt.figure(figsize=(12,8))\n",
    "\n",
    "# Line chart with markers\n",
    "sns.lineplot(\n",
    "    x=\"year_of_listing\", \n",
    "    y=\"price\", \n",
    "    data=paris_listings_final_analysis, \n",
    "    marker=\"o\", \n",
    "    linewidth=2.5, \n",
    "    color=\"teal\"\n",
    ")\n",
    "\n",
    "# Titles and labels\n",
    "plt.title(\"Average Airbnb Prices in Paris Over Time\", fontsize=18, fontweight=\"bold\", pad=15)\n",
    "plt.xlabel(\"Year of Listing\", fontsize=14)\n",
    "plt.ylabel(\"Average Price (€)\", fontsize=14)\n",
    "\n",
    "# Grid styling\n",
    "plt.grid(alpha=0.3, linestyle=\"--\")\n",
    "\n",
    "# Highlight regulation year (2017)\n",
    "plt.axvline(x=2017, color=\"red\", linestyle=\"--\", linewidth=2, alpha=0.7, label=\"Regulation (2017)\")\n",
    "\n",
    "# Improve ticks\n",
    "plt.xticks(fontsize=12, rotation=45)\n",
    "plt.yticks(fontsize=12)\n",
    "\n",
    "# Legend\n",
    "plt.legend(fontsize=12)\n",
    "\n",
    "plt.tight_layout()\n",
    "plt.show()\n"
   ]
  },
  {
   "cell_type": "markdown",
   "id": "ba46a7d3",
   "metadata": {
    "papermill": {
     "duration": null,
     "end_time": null,
     "exception": null,
     "start_time": null,
     "status": "pending"
    },
    "tags": []
   },
   "source": [
    "### Insight on Average Airbnb Prices Over Time\n",
    "\n",
    "- **2008–2009:** Prices started relatively low (~€78) but spiked sharply in 2009 to over **€140**, possibly reflecting early market scarcity and premium pricing when Airbnb first entered Paris.  \n",
    "\n",
    "- **2010–2014:** A consistent **downward trend** is visible, with average prices falling from ~€121 to ~€96. This suggests **increasing competition and supply** as more hosts entered the market, leading to price normalization.  \n",
    "\n",
    "- **2015–2017:** Prices stabilized at just under €100–€101/night, marking a period of equilibrium between supply growth and customer demand.  \n",
    "\n",
    "- **2018–2020:** Prices rose again to around **€115/night**, despite stricter **2017 regulations**. With supply growth slowing, fewer new listings may have pushed average prices upward as demand remained strong.  \n",
    "\n",
    "- **2021 onwards:** A decline back toward ~€93 is visible, possibly reflecting **pandemic-related demand shocks** and a temporary oversupply compared to lower travel activity.  \n",
    "\n",
    "**Overall:**  \n",
    "- In the **early years**, scarcity kept prices high.  \n",
    "- As supply expanded, **competition drove prices down**.  \n",
    "- **Regulation (2017)** limited supply growth, causing a **price rebound**.  \n",
    "- **Pandemic effects** likely caused the post-2020 decline.  \n"
   ]
  },
  {
   "cell_type": "code",
   "execution_count": null,
   "id": "4472aa53",
   "metadata": {
    "execution": {
     "iopub.status.busy": "2025-09-08T17:11:42.761156Z",
     "iopub.status.idle": "2025-09-08T17:11:42.761514Z",
     "shell.execute_reply": "2025-09-08T17:11:42.761342Z",
     "shell.execute_reply.started": "2025-09-08T17:11:42.761324Z"
    },
    "papermill": {
     "duration": null,
     "end_time": null,
     "exception": null,
     "start_time": null,
     "status": "pending"
    },
    "tags": []
   },
   "outputs": [],
   "source": [
    "fig, ax = plt.subplots(figsize=(12,8))\n",
    "\n",
    "# Plot number of listings (left y-axis)\n",
    "ax.plot(\n",
    "    paris_listings_final_analysis.index, \n",
    "    paris_listings_final_analysis[\"listing_id\"], \n",
    "    color=\"teal\", linewidth=2.5, marker=\"o\", label=\"Number of Listings\"\n",
    ")\n",
    "ax.set_xlabel(\"Year of Listing\", fontsize=14)\n",
    "ax.set_ylabel(\"Number of New Listings\", fontsize=14, color=\"teal\")\n",
    "ax.tick_params(axis=\"y\", labelcolor=\"teal\")\n",
    "\n",
    "# Secondary y-axis for price\n",
    "ax2 = ax.twinx()\n",
    "ax2.plot(\n",
    "    paris_listings_final_analysis.index, \n",
    "    paris_listings_final_analysis[\"price\"], \n",
    "    color=\"darkorange\", linewidth=2.5, marker=\"s\", label=\"Average Price (€)\"\n",
    ")\n",
    "ax2.set_ylabel(\"Average Price (€)\", fontsize=14, color=\"darkorange\")\n",
    "ax2.tick_params(axis=\"y\", labelcolor=\"darkorange\")\n",
    "ax2.set_ylim(0)\n",
    "\n",
    "# Titles and grid\n",
    "plt.title(\"Airbnb Listings vs. Average Price in Paris (2008–2021)\", fontsize=18, fontweight=\"bold\", pad=15)\n",
    "ax.grid(alpha=0.3, linestyle=\"--\")\n",
    "\n",
    "# Highlight regulation year (2017)\n",
    "ax.axvline(x=2017, color=\"red\", linestyle=\"--\", linewidth=2, alpha=0.8, label=\"Regulation (2017)\")\n",
    "\n",
    "# Shade post-2017 period\n",
    "ax.axvspan(2017, paris_listings_final_analysis.index.max(), color=\"red\", alpha=0.1)\n",
    "\n",
    "# Add text inside shaded area\n",
    "ax.text(\n",
    "    2017.5, \n",
    "    ax.get_ylim()[1]*0.9,   # position text near the top of shaded area\n",
    "    \"Post-regulation era\", \n",
    "    color=\"red\", fontsize=13, fontweight=\"bold\"\n",
    ")\n",
    "\n",
    "# ---- Annotations ----\n",
    "# Peak in listings (2015–2016)\n",
    "peak_year = paris_listings_final_analysis[\"listing_id\"].idxmax()\n",
    "peak_val = paris_listings_final_analysis[\"listing_id\"].max()\n",
    "ax.annotate(\n",
    "    f\"Peak Listings\\n({peak_year}: {peak_val:,})\",\n",
    "    xy=(peak_year, peak_val),\n",
    "    xytext=(peak_year-2, peak_val+2000),\n",
    "    arrowprops=dict(arrowstyle=\"->\", color=\"teal\"),\n",
    "    fontsize=12, color=\"teal\"\n",
    ")\n",
    "\n",
    "# Lowest price point (2014)\n",
    "low_year = paris_listings_final_analysis[\"price\"].idxmin()\n",
    "low_val = paris_listings_final_analysis[\"price\"].min()\n",
    "ax2.annotate(\n",
    "    f\"Lowest Price\\n({low_year}: €{low_val:.0f})\",\n",
    "    xy=(low_year, low_val),\n",
    "    xytext=(low_year+1, low_val-15),\n",
    "    arrowprops=dict(arrowstyle=\"->\", color=\"darkorange\"),\n",
    "    fontsize=12, color=\"darkorange\"\n",
    ")\n",
    "\n",
    "# Price rebound post-2017\n",
    "ax2.annotate(\n",
    "    \"Price rebound\\npost-regulation\",\n",
    "    xy=(2018, paris_listings_final_analysis.loc[2018, \"price\"]),\n",
    "    xytext=(2014.5, 130),\n",
    "    arrowprops=dict(arrowstyle=\"->\", color=\"darkorange\"),\n",
    "    fontsize=12, color=\"darkorange\"\n",
    ")\n",
    "\n",
    "# Legends\n",
    "lines, labels = ax.get_legend_handles_labels()\n",
    "lines2, labels2 = ax2.get_legend_handles_labels()\n",
    "ax.legend(lines + lines2, labels + labels2, fontsize=12, loc=\"upper left\")\n",
    "\n",
    "plt.tight_layout()\n",
    "plt.show()\n"
   ]
  },
  {
   "cell_type": "markdown",
   "id": "c4fc8c6e",
   "metadata": {
    "papermill": {
     "duration": null,
     "end_time": null,
     "exception": null,
     "start_time": null,
     "status": "pending"
    },
    "tags": []
   },
   "source": [
    "## Final Insights and Recommendations\n",
    "\n",
    "### Key Insights\n",
    "1. **Strong Growth Pre-2017**  \n",
    "   - Paris experienced rapid growth in Airbnb listings between 2008–2016, peaking in 2015–2016.  \n",
    "   - This reflects high demand and strong attractiveness of the short-term rental market.  \n",
    "\n",
    "2. **Impact of 2017 Regulations**  \n",
    "   - The number of new hosts dropped sharply after the 2017 regulations that restricted short-term rentals.  \n",
    "   - While demand from travelers remained steady, the reduced inflow of hosts slowed supply growth.  \n",
    "\n",
    "3. **Price Dynamics**  \n",
    "   - Average prices decreased between 2010–2014 due to increased competition from new hosts.  \n",
    "   - Post-2017, prices rebounded as supply growth slowed, suggesting a supply-demand imbalance.  \n",
    "   - During the pandemic (2020–2021), prices declined again due to demand shocks.  \n",
    "\n",
    "4. **Locality-Based Trends**  \n",
    "   - Central, prestigious areas (Louvre, Elysee, Luxembourg) command premium prices.  \n",
    "   - Outer neighborhoods (Menilmontant, Buttes-Chaumont) remain more affordable, appealing to budget travelers.  \n",
    "\n",
    "5. **Accommodation Capacity**  \n",
    "   - Prices scale with the number of guests a listing can accommodate, but not proportionally.  \n",
    "   - Large properties (10+ guests) cater to a niche segment, with very high average nightly prices.  \n",
    "\n",
    "---\n",
    "\n",
    "### Recommendations for the Business\n",
    "1. **Focus on High-Demand Localities**  \n",
    "   - Prioritize investments and partnerships in central, premium areas where demand is strongest and prices are resilient.  \n",
    "   - Simultaneously, target budget-friendly neighborhoods to attract cost-sensitive travelers.  \n",
    "\n",
    "2. **Leverage Supply-Demand Gap Post-2017**  \n",
    "   - With stricter entry for new hosts, existing hosts can capture greater market share.  \n",
    "   - Encourage quality improvements and unique value-adds (professional photos, amenities, flexible check-in) to stand out.  \n",
    "\n",
    "3. **Diversify Accommodation Sizes**  \n",
    "   - Promote medium-capacity listings (3–6 guests) that balance affordability and profitability.  \n",
    "   - Large properties should be marketed as group or family stays, potentially bundling with experiences.  \n",
    "\n",
    "4. **Dynamic Pricing Strategy**  \n",
    "   - Implement data-driven pricing models that account for seasonality, locality, and capacity.  \n",
    "   - Post-pandemic recovery presents an opportunity to adjust prices as travel demand rebounds.  \n",
    "\n",
    "5. **Customer-Centric Growth**  \n",
    "   - Enhance guest experience through verified reviews, safety measures, and customer support.  \n",
    "   - Focus on repeat customers and long-term stays, especially in regulatory-constrained markets.  \n",
    "\n",
    "6. **Policy Adaptation**  \n",
    "   - Stay agile in response to local regulations.  \n",
    "   - Explore partnerships or compliance-based strategies (e.g., registered professional hosting) to maintain competitiveness.  \n",
    "\n",
    "---\n",
    "\n",
    "✅ **Overall:** Paris Airbnb experienced strong growth until 2017, after which regulations constrained supply. Demand has remained steady, pushing prices higher post-regulation. Businesses should focus on **balancing premium and budget offerings, adopting dynamic pricing, and aligning with regulatory frameworks** to remain competitive in this evolving market.\n"
   ]
  },
  {
   "cell_type": "markdown",
   "id": "bf8186e0",
   "metadata": {
    "papermill": {
     "duration": null,
     "end_time": null,
     "exception": null,
     "start_time": null,
     "status": "pending"
    },
    "tags": []
   },
   "source": [
    "<div style=\"background-color:#767676; padding:25px; border-radius:12px; text-align:center;\">\n",
    "  <h1 style=\"color:white;\">✅ Thank You</h1>\n",
    "  <p style=\"color:white; font-size:18px;\">\n",
    "    We appreciate your time reviewing this analysis.<br>\n",
    "    For any questions or discussions, feel free to connect.\n",
    "  </p>\n",
    "</div>\n",
    "\n",
    "<p style=\"text-align:center; color:gray; font-size:14px; margin-top:10px;\">\n",
    "  Airbnb Paris Analysis | 2025\n",
    "</p>\n"
   ]
  }
 ],
 "metadata": {
  "kaggle": {
   "accelerator": "none",
   "dataSources": [],
   "dockerImageVersionId": 31089,
   "isGpuEnabled": false,
   "isInternetEnabled": true,
   "language": "python",
   "sourceType": "notebook"
  },
  "kernelspec": {
   "display_name": "Python 3",
   "language": "python",
   "name": "python3"
  },
  "language_info": {
   "codemirror_mode": {
    "name": "ipython",
    "version": 3
   },
   "file_extension": ".py",
   "mimetype": "text/x-python",
   "name": "python",
   "nbconvert_exporter": "python",
   "pygments_lexer": "ipython3",
   "version": "3.11.13"
  },
  "papermill": {
   "default_parameters": {},
   "duration": 8.988102,
   "end_time": "2025-09-08T17:23:59.379628",
   "environment_variables": {},
   "exception": true,
   "input_path": "__notebook__.ipynb",
   "output_path": "__notebook__.ipynb",
   "parameters": {},
   "start_time": "2025-09-08T17:23:50.391526",
   "version": "2.6.0"
  }
 },
 "nbformat": 4,
 "nbformat_minor": 5
}
